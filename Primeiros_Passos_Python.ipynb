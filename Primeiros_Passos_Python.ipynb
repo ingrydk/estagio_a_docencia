{
  "nbformat": 4,
  "nbformat_minor": 0,
  "metadata": {
    "colab": {
      "provenance": [],
      "authorship_tag": "ABX9TyOmIQaZ29940gJTDqglz5pC",
      "include_colab_link": true
    },
    "kernelspec": {
      "name": "python3",
      "display_name": "Python 3"
    },
    "language_info": {
      "name": "python"
    }
  },
  "cells": [
    {
      "cell_type": "markdown",
      "metadata": {
        "id": "view-in-github",
        "colab_type": "text"
      },
      "source": [
        "<a href=\"https://colab.research.google.com/github/ingrydk/programacao_para_engenharia_eletrica/blob/main/Primeiros_Passos_Python.ipynb\" target=\"_parent\"><img src=\"https://colab.research.google.com/assets/colab-badge.svg\" alt=\"Open In Colab\"/></a>"
      ]
    },
    {
      "cell_type": "markdown",
      "source": [
        "# **Primeiros Passos em Python**\n",
        "- Print, comentários\n",
        "- Operações matemáticas\n",
        "- Variáveis\n",
        "- Indexação\n",
        "- Fatiamento de String\n",
        "- Usando a função *count*\n",
        "- Usando função *lower* e *upper*\n",
        "- Usando função *replace*\n",
        "- Estrutura de Dados"
      ],
      "metadata": {
        "id": "_mXpV0elSWf0"
      }
    },
    {
      "cell_type": "code",
      "source": [
        "print(\"Olá Mundo!\")"
      ],
      "metadata": {
        "colab": {
          "base_uri": "https://localhost:8080/"
        },
        "id": "WohRBnyhSnhw",
        "outputId": "a0be70d0-5075-46be-e469-0d93228ba1e8"
      },
      "execution_count": 12,
      "outputs": [
        {
          "output_type": "stream",
          "name": "stdout",
          "text": [
            "Olá Mundo!\n"
          ]
        }
      ]
    },
    {
      "cell_type": "code",
      "source": [
        "# Comentários em python são feitos assim"
      ],
      "metadata": {
        "id": "opxMcrWUSvFI"
      },
      "execution_count": 13,
      "outputs": []
    },
    {
      "cell_type": "markdown",
      "source": [
        "# **Operações matemáticas em Python**"
      ],
      "metadata": {
        "id": "JSMO1rjwS1cb"
      }
    },
    {
      "cell_type": "code",
      "source": [
        "#soma\n",
        "2+2"
      ],
      "metadata": {
        "colab": {
          "base_uri": "https://localhost:8080/"
        },
        "id": "2I89ug-AS_el",
        "outputId": "ce1d70c0-a630-4c50-ce43-52864ddbfe2f"
      },
      "execution_count": 14,
      "outputs": [
        {
          "output_type": "execute_result",
          "data": {
            "text/plain": [
              "4"
            ]
          },
          "metadata": {},
          "execution_count": 14
        }
      ]
    },
    {
      "cell_type": "code",
      "source": [
        "#subtração\n",
        "10-2"
      ],
      "metadata": {
        "colab": {
          "base_uri": "https://localhost:8080/"
        },
        "id": "w61Bgo67TFkw",
        "outputId": "9b9cc905-3fbe-444b-e0e4-55351cf33426"
      },
      "execution_count": 15,
      "outputs": [
        {
          "output_type": "execute_result",
          "data": {
            "text/plain": [
              "8"
            ]
          },
          "metadata": {},
          "execution_count": 15
        }
      ]
    },
    {
      "cell_type": "code",
      "source": [
        "#multiplicação\n",
        "10*2"
      ],
      "metadata": {
        "colab": {
          "base_uri": "https://localhost:8080/"
        },
        "id": "YCwcfHLoTIf1",
        "outputId": "507235b5-6cb1-4cde-b095-4fa15707cbdd"
      },
      "execution_count": 16,
      "outputs": [
        {
          "output_type": "execute_result",
          "data": {
            "text/plain": [
              "20"
            ]
          },
          "metadata": {},
          "execution_count": 16
        }
      ]
    },
    {
      "cell_type": "code",
      "source": [
        "#divisão\n",
        "10/2"
      ],
      "metadata": {
        "colab": {
          "base_uri": "https://localhost:8080/"
        },
        "id": "Dn_oC7nxTNi8",
        "outputId": "1367c5a7-2d16-4c39-fe38-14d686d9ead1"
      },
      "execution_count": 17,
      "outputs": [
        {
          "output_type": "execute_result",
          "data": {
            "text/plain": [
              "5.0"
            ]
          },
          "metadata": {},
          "execution_count": 17
        }
      ]
    },
    {
      "cell_type": "code",
      "source": [
        "#potenciação\n",
        "2**3"
      ],
      "metadata": {
        "colab": {
          "base_uri": "https://localhost:8080/"
        },
        "id": "h7IMv9exTPtV",
        "outputId": "0380d84c-16b2-45ef-bbe6-0f495e5c683c"
      },
      "execution_count": 18,
      "outputs": [
        {
          "output_type": "execute_result",
          "data": {
            "text/plain": [
              "8"
            ]
          },
          "metadata": {},
          "execution_count": 18
        }
      ]
    },
    {
      "cell_type": "markdown",
      "source": [
        "# **Variáveis**\n",
        "- String (palavras, frases, textos)\n",
        "- Inteiro (valores inteiros: 1, 2, 10, 100...)\n",
        "- Real (valores reais: 10.2, 34.89, 99.9999...)\n",
        "- Booleano (True, False)"
      ],
      "metadata": {
        "id": "qg29inBjTpll"
      }
    },
    {
      "cell_type": "code",
      "source": [
        "#Criando uma string\n",
        "frase = \"Python é muito legal e muito fácil de aprender\""
      ],
      "metadata": {
        "id": "2Q3t6KcWTu8N"
      },
      "execution_count": 19,
      "outputs": []
    },
    {
      "cell_type": "markdown",
      "source": [
        "# **Indexação**\n",
        "\n",
        "Em Python, a indexação começa do zero, o que significa que o primeiro caractere de uma string tem o índice 0, o segundo caractere tem o índice 1 e assim por diante"
      ],
      "metadata": {
        "id": "5FTHLTm3UnbR"
      }
    },
    {
      "cell_type": "code",
      "source": [
        "frase[0]"
      ],
      "metadata": {
        "colab": {
          "base_uri": "https://localhost:8080/",
          "height": 36
        },
        "id": "Wnd-8yzRUwDB",
        "outputId": "4fe2c4d7-9e0a-4593-8efe-eaa68e109568"
      },
      "execution_count": 20,
      "outputs": [
        {
          "output_type": "execute_result",
          "data": {
            "text/plain": [
              "'P'"
            ],
            "application/vnd.google.colaboratory.intrinsic+json": {
              "type": "string"
            }
          },
          "metadata": {},
          "execution_count": 20
        }
      ]
    },
    {
      "cell_type": "code",
      "source": [
        "frase[6]"
      ],
      "metadata": {
        "colab": {
          "base_uri": "https://localhost:8080/",
          "height": 36
        },
        "id": "8j65hs03VRME",
        "outputId": "7bf1978d-3dfb-489d-ed82-f7795eb70408"
      },
      "execution_count": 21,
      "outputs": [
        {
          "output_type": "execute_result",
          "data": {
            "text/plain": [
              "' '"
            ],
            "application/vnd.google.colaboratory.intrinsic+json": {
              "type": "string"
            }
          },
          "metadata": {},
          "execution_count": 21
        }
      ]
    },
    {
      "cell_type": "markdown",
      "source": [
        "# **Fatiando uma string**\n",
        "\n",
        "O fatiamento em Python é inclusiva à esquerda, mas não à direita"
      ],
      "metadata": {
        "id": "qOA33dNWV3Lc"
      }
    },
    {
      "cell_type": "code",
      "source": [
        "#Fatiando a string\n",
        "frase[0:5]"
      ],
      "metadata": {
        "colab": {
          "base_uri": "https://localhost:8080/",
          "height": 36
        },
        "id": "rApq8sPvVea9",
        "outputId": "04d186f5-0f64-4233-f761-27cf86b48932"
      },
      "execution_count": 22,
      "outputs": [
        {
          "output_type": "execute_result",
          "data": {
            "text/plain": [
              "'Pytho'"
            ],
            "application/vnd.google.colaboratory.intrinsic+json": {
              "type": "string"
            }
          },
          "metadata": {},
          "execution_count": 22
        }
      ]
    },
    {
      "cell_type": "code",
      "source": [
        "#Fatiando do meio ao fim\n",
        "frase[5:]"
      ],
      "metadata": {
        "colab": {
          "base_uri": "https://localhost:8080/",
          "height": 36
        },
        "id": "9m-CPXkfWWYM",
        "outputId": "88f30654-726e-488c-b88f-371adc369d0c"
      },
      "execution_count": 23,
      "outputs": [
        {
          "output_type": "execute_result",
          "data": {
            "text/plain": [
              "'n é muito legal e muito fácil de aprender'"
            ],
            "application/vnd.google.colaboratory.intrinsic+json": {
              "type": "string"
            }
          },
          "metadata": {},
          "execution_count": 23
        }
      ]
    },
    {
      "cell_type": "code",
      "source": [
        "#Fatiando do zero até x elemento\n",
        "frase[:12]"
      ],
      "metadata": {
        "colab": {
          "base_uri": "https://localhost:8080/",
          "height": 36
        },
        "id": "aOO0OmDmWgHV",
        "outputId": "cc8df341-376c-488c-d925-2023541ec358"
      },
      "execution_count": 24,
      "outputs": [
        {
          "output_type": "execute_result",
          "data": {
            "text/plain": [
              "'Python é mui'"
            ],
            "application/vnd.google.colaboratory.intrinsic+json": {
              "type": "string"
            }
          },
          "metadata": {},
          "execution_count": 24
        }
      ]
    },
    {
      "cell_type": "markdown",
      "source": [
        "# **Usando a função *count***\n",
        "\n",
        "A função count em Python é uma ferramenta utilizada para realizar a contagem de elementos em uma lista."
      ],
      "metadata": {
        "id": "z7KRN8ZWXTsU"
      }
    },
    {
      "cell_type": "code",
      "source": [
        "#Usando a função count\n",
        "frase.count(\"python\")"
      ],
      "metadata": {
        "colab": {
          "base_uri": "https://localhost:8080/"
        },
        "id": "ZUXlK1JFXyAR",
        "outputId": "e2641d92-6d48-495c-ccfa-2669d15885d7"
      },
      "execution_count": 25,
      "outputs": [
        {
          "output_type": "execute_result",
          "data": {
            "text/plain": [
              "0"
            ]
          },
          "metadata": {},
          "execution_count": 25
        }
      ]
    },
    {
      "cell_type": "code",
      "source": [
        "#Python é  Case-sensitive, então muita atenção, ele diferencia Maiúsculas de minúsculas.\n",
        "idade = 20\n",
        "IDADE = 30\n",
        "Idade = 4\n",
        "\n",
        "idade + IDADE + Idade"
      ],
      "metadata": {
        "colab": {
          "base_uri": "https://localhost:8080/"
        },
        "id": "5LqgXAoqYmXI",
        "outputId": "eb1952f2-599f-4a78-99c1-3c514cfaf531"
      },
      "execution_count": 26,
      "outputs": [
        {
          "output_type": "execute_result",
          "data": {
            "text/plain": [
              "54"
            ]
          },
          "metadata": {},
          "execution_count": 26
        }
      ]
    },
    {
      "cell_type": "code",
      "source": [
        "#Voltando para a função count\n",
        "frase.count(\"Python\")"
      ],
      "metadata": {
        "colab": {
          "base_uri": "https://localhost:8080/"
        },
        "id": "4xL-kD0OZBIa",
        "outputId": "9c2006f2-df8d-4334-b293-560e57093067"
      },
      "execution_count": 27,
      "outputs": [
        {
          "output_type": "execute_result",
          "data": {
            "text/plain": [
              "1"
            ]
          },
          "metadata": {},
          "execution_count": 27
        }
      ]
    },
    {
      "cell_type": "code",
      "source": [
        "#Voltando para a função count\n",
        "frase.count(\"muito\")"
      ],
      "metadata": {
        "colab": {
          "base_uri": "https://localhost:8080/"
        },
        "id": "bILwdp-2ZMZ8",
        "outputId": "e894dbec-bbff-4574-a2c2-df26e7c94f01"
      },
      "execution_count": 28,
      "outputs": [
        {
          "output_type": "execute_result",
          "data": {
            "text/plain": [
              "2"
            ]
          },
          "metadata": {},
          "execution_count": 28
        }
      ]
    },
    {
      "cell_type": "markdown",
      "source": [
        "# **Usando a função *lower* e *upper***\n",
        "A função lower é usada para tornar minúsculos todos os caracteres, enquanto a upper torna todos em maiúsculo os caracteres."
      ],
      "metadata": {
        "id": "4fRukaeadoCB"
      }
    },
    {
      "cell_type": "code",
      "source": [
        "#Usando a função lower\n",
        "frase.lower()"
      ],
      "metadata": {
        "colab": {
          "base_uri": "https://localhost:8080/",
          "height": 36
        },
        "id": "25HJO1v2dU9q",
        "outputId": "f7c105de-e4ee-473f-b909-1725966a0e80"
      },
      "execution_count": 29,
      "outputs": [
        {
          "output_type": "execute_result",
          "data": {
            "text/plain": [
              "'python é muito legal e muito fácil de aprender'"
            ],
            "application/vnd.google.colaboratory.intrinsic+json": {
              "type": "string"
            }
          },
          "metadata": {},
          "execution_count": 29
        }
      ]
    },
    {
      "cell_type": "code",
      "source": [
        "#Usando a função upper\n",
        "frase.upper()"
      ],
      "metadata": {
        "colab": {
          "base_uri": "https://localhost:8080/",
          "height": 36
        },
        "id": "0wnqIfd9dlnR",
        "outputId": "a5fb50c3-6709-4f7c-907d-eb6c2622a7d7"
      },
      "execution_count": 30,
      "outputs": [
        {
          "output_type": "execute_result",
          "data": {
            "text/plain": [
              "'PYTHON É MUITO LEGAL E MUITO FÁCIL DE APRENDER'"
            ],
            "application/vnd.google.colaboratory.intrinsic+json": {
              "type": "string"
            }
          },
          "metadata": {},
          "execution_count": 30
        }
      ]
    },
    {
      "cell_type": "markdown",
      "source": [
        "#**Usando a função *replace***\n",
        "A função *replace* é usada para substituir substrings por outra substring específica."
      ],
      "metadata": {
        "id": "zA0Sm0W6fL6z"
      }
    },
    {
      "cell_type": "code",
      "source": [
        "#Usando a função replace\n",
        "frase.replace(\"legal\",\"interessante\")"
      ],
      "metadata": {
        "colab": {
          "base_uri": "https://localhost:8080/",
          "height": 36
        },
        "id": "ljZc8qQ9fK45",
        "outputId": "f24c674d-ce20-498e-9eb5-3aabfbe87ccf"
      },
      "execution_count": 31,
      "outputs": [
        {
          "output_type": "execute_result",
          "data": {
            "text/plain": [
              "'Python é muito interessante e muito fácil de aprender'"
            ],
            "application/vnd.google.colaboratory.intrinsic+json": {
              "type": "string"
            }
          },
          "metadata": {},
          "execution_count": 31
        }
      ]
    },
    {
      "cell_type": "markdown",
      "source": [
        "# **Estrutura de Dados**\n",
        "Principais estruturas no Python:\n",
        "- Listas\n",
        "- Tuplas\n",
        "- Dicionários"
      ],
      "metadata": {
        "id": "eMA09HUo32A4"
      }
    },
    {
      "cell_type": "markdown",
      "source": [
        "# **Listas**\n",
        "Para criar listas, utilizamos os colchetes \"[]\""
      ],
      "metadata": {
        "id": "EPC2d33Q3_Dp"
      }
    },
    {
      "cell_type": "code",
      "source": [
        "#Criando uma lista chamada equipamentos (transmissores indicadores pressão/vazão/temperatura)\n",
        "equipamentos = [\"PIT\", \"FIT\", \"TIT\"]"
      ],
      "metadata": {
        "id": "exx8F3Z84FlD"
      },
      "execution_count": 48,
      "outputs": []
    },
    {
      "cell_type": "code",
      "source": [
        "#Imprimindo o primeiro elemento da lista equipamentos\n",
        "equipamentos[0]"
      ],
      "metadata": {
        "colab": {
          "base_uri": "https://localhost:8080/",
          "height": 36
        },
        "id": "ntKjaJ7a5pf_",
        "outputId": "513d98eb-c1ef-46f7-ad63-21733d7b5d37"
      },
      "execution_count": 36,
      "outputs": [
        {
          "output_type": "execute_result",
          "data": {
            "text/plain": [
              "'PIT'"
            ],
            "application/vnd.google.colaboratory.intrinsic+json": {
              "type": "string"
            }
          },
          "metadata": {},
          "execution_count": 36
        }
      ]
    },
    {
      "cell_type": "code",
      "source": [
        "#Substituindo o elemento de índice [2] por \"LIT\" (transmissor indicador de nível)\n",
        "equipamentos[2] = \"LIT\"\n",
        "equipamentos"
      ],
      "metadata": {
        "colab": {
          "base_uri": "https://localhost:8080/"
        },
        "id": "rQUA4gDl58P_",
        "outputId": "15b88c63-17db-4043-aa0c-5b9cd45f2fe8"
      },
      "execution_count": 39,
      "outputs": [
        {
          "output_type": "execute_result",
          "data": {
            "text/plain": [
              "['PIT', 'FIT', 'LIT']"
            ]
          },
          "metadata": {},
          "execution_count": 39
        }
      ]
    },
    {
      "cell_type": "code",
      "source": [
        "#Para remover um elemento de uma lista\n",
        "equipamentos.remove(\"FIT\")\n",
        "equipamentos"
      ],
      "metadata": {
        "colab": {
          "base_uri": "https://localhost:8080/"
        },
        "id": "GwGLQeOn_c8f",
        "outputId": "c20d20eb-5d5c-45b3-85e4-3fb6cb95979f"
      },
      "execution_count": 49,
      "outputs": [
        {
          "output_type": "execute_result",
          "data": {
            "text/plain": [
              "['PIT', 'TIT']"
            ]
          },
          "metadata": {},
          "execution_count": 49
        }
      ]
    },
    {
      "cell_type": "code",
      "source": [
        "#Descobrir quantos elementos tem em uma lista\n",
        "len(equipamentos)"
      ],
      "metadata": {
        "colab": {
          "base_uri": "https://localhost:8080/"
        },
        "id": "vKB0zfEk_tqK",
        "outputId": "c341aa70-04ec-4f38-8ca7-53fb1164a76f"
      },
      "execution_count": 46,
      "outputs": [
        {
          "output_type": "execute_result",
          "data": {
            "text/plain": [
              "2"
            ]
          },
          "metadata": {},
          "execution_count": 46
        }
      ]
    },
    {
      "cell_type": "code",
      "source": [
        "#Descobrindo se um elemento pertence à lista\n",
        "\"FIT\" in equipamentos"
      ],
      "metadata": {
        "colab": {
          "base_uri": "https://localhost:8080/"
        },
        "id": "GJadk11r_0km",
        "outputId": "d9cf95d9-cfa3-439f-ac83-52df41974fe8"
      },
      "execution_count": 53,
      "outputs": [
        {
          "output_type": "execute_result",
          "data": {
            "text/plain": [
              "False"
            ]
          },
          "metadata": {},
          "execution_count": 53
        }
      ]
    },
    {
      "cell_type": "code",
      "source": [
        "valores = [1, 20, 3090, 400, 50]"
      ],
      "metadata": {
        "id": "7KMtdHNYAJeG"
      },
      "execution_count": 65,
      "outputs": []
    },
    {
      "cell_type": "code",
      "source": [
        "#Qual o maior valor na lista valores?\n",
        "max(valores)"
      ],
      "metadata": {
        "colab": {
          "base_uri": "https://localhost:8080/"
        },
        "id": "bTWCrMWgAZ2O",
        "outputId": "3d5c33ba-49d1-4079-f9be-0e8fc54b93ea"
      },
      "execution_count": 56,
      "outputs": [
        {
          "output_type": "execute_result",
          "data": {
            "text/plain": [
              "3090"
            ]
          },
          "metadata": {},
          "execution_count": 56
        }
      ]
    },
    {
      "cell_type": "code",
      "source": [
        "#Qual menor valor da lista valores?\n",
        "min(valores)"
      ],
      "metadata": {
        "colab": {
          "base_uri": "https://localhost:8080/"
        },
        "id": "Q9MBXAdIAfPe",
        "outputId": "2a823a8d-8be0-453f-ae04-d0d78449563b"
      },
      "execution_count": 57,
      "outputs": [
        {
          "output_type": "execute_result",
          "data": {
            "text/plain": [
              "1"
            ]
          },
          "metadata": {},
          "execution_count": 57
        }
      ]
    },
    {
      "cell_type": "code",
      "source": [
        "#Para adicionar elemento a uma lista (só aceita um elemento por vez, caso use ([]) para add criará uma lista aninhada)\n",
        "valores.append(1000)\n",
        "valores"
      ],
      "metadata": {
        "colab": {
          "base_uri": "https://localhost:8080/"
        },
        "id": "ov4hh_QAAj4u",
        "outputId": "5594d340-a744-4a3a-bd6a-af085823ae7a"
      },
      "execution_count": 66,
      "outputs": [
        {
          "output_type": "execute_result",
          "data": {
            "text/plain": [
              "[1, 20, 3090, 400, 50, 1000]"
            ]
          },
          "metadata": {},
          "execution_count": 66
        }
      ]
    },
    {
      "cell_type": "code",
      "source": [
        "#Exemplo de lista aninhada\n",
        "teste = [1,2,3,1]\n",
        "teste.append([123, 456])\n",
        "len(teste)\n",
        "teste\n",
        "#gera problemas na estrutura, confusão para manipulação dos dados e mais necessidades de iterações adicionais"
      ],
      "metadata": {
        "colab": {
          "base_uri": "https://localhost:8080/"
        },
        "id": "E9Q7iaGIB_SO",
        "outputId": "ff630ed6-95b6-440e-b184-10f790f00d74"
      },
      "execution_count": 73,
      "outputs": [
        {
          "output_type": "execute_result",
          "data": {
            "text/plain": [
              "[1, 2, 3, 1, [123, 456]]"
            ]
          },
          "metadata": {},
          "execution_count": 73
        }
      ]
    },
    {
      "cell_type": "code",
      "source": [
        "#Encontrar elemento dentro de lista aninhada\n",
        "teste.count(123)"
      ],
      "metadata": {
        "colab": {
          "base_uri": "https://localhost:8080/"
        },
        "id": "jOS8ECPzMPtn",
        "outputId": "4265b85a-5f8d-4994-c30a-8c34febf61f3"
      },
      "execution_count": 75,
      "outputs": [
        {
          "output_type": "execute_result",
          "data": {
            "text/plain": [
              "0"
            ]
          },
          "metadata": {},
          "execution_count": 75
        }
      ]
    },
    {
      "cell_type": "code",
      "source": [
        "#Para adicionar mais de um elemento a lista\n",
        "valores.extend([150, 2000, 400])\n",
        "valores"
      ],
      "metadata": {
        "colab": {
          "base_uri": "https://localhost:8080/"
        },
        "id": "-jJTWOniAyO2",
        "outputId": "39f9119b-9597-409e-d1ba-24f0a5c8794a"
      },
      "execution_count": 70,
      "outputs": [
        {
          "output_type": "execute_result",
          "data": {
            "text/plain": [
              "[1, 20, 3090, 400, 50, 1000, 150]"
            ]
          },
          "metadata": {},
          "execution_count": 70
        }
      ]
    },
    {
      "cell_type": "code",
      "source": [
        "#Ordenando a lista em ordem crescente\n",
        "valores.sort()\n",
        "valores"
      ],
      "metadata": {
        "colab": {
          "base_uri": "https://localhost:8080/"
        },
        "id": "hESnfsCJByjN",
        "outputId": "391b7d35-a2ca-4f24-f05a-da01540bf140"
      },
      "execution_count": 78,
      "outputs": [
        {
          "output_type": "execute_result",
          "data": {
            "text/plain": [
              "[1, 20, 50, 150, 400, 1000, 3090]"
            ]
          },
          "metadata": {},
          "execution_count": 78
        }
      ]
    },
    {
      "cell_type": "markdown",
      "source": [
        "# **Tuplas**\n",
        "Diferente das listas, as tuplas são imutáveis, ou seja, não podemos alterar os elementos delas."
      ],
      "metadata": {
        "id": "xKa1KxlzUU7d"
      }
    },
    {
      "cell_type": "code",
      "source": [
        "#utiliza-se parênteses\n",
        "tp = (\"Banana\", \"Maçã\", 10, 20)\n",
        "tp"
      ],
      "metadata": {
        "colab": {
          "base_uri": "https://localhost:8080/"
        },
        "id": "2YKs53cuUM9L",
        "outputId": "08f96d79-6426-41bd-f5ba-cc3a4821de0f"
      },
      "execution_count": 80,
      "outputs": [
        {
          "output_type": "execute_result",
          "data": {
            "text/plain": [
              "('Banana', 'Maçã', 10, 20)"
            ]
          },
          "metadata": {},
          "execution_count": 80
        }
      ]
    },
    {
      "cell_type": "code",
      "source": [
        "#retornando o primeiro elemento da tupla\n",
        "tp[0]"
      ],
      "metadata": {
        "colab": {
          "base_uri": "https://localhost:8080/",
          "height": 36
        },
        "id": "HYnM7zKmUmcj",
        "outputId": "3ab3c358-a27c-442c-ad9f-630d58e5c965"
      },
      "execution_count": 81,
      "outputs": [
        {
          "output_type": "execute_result",
          "data": {
            "text/plain": [
              "'Banana'"
            ],
            "application/vnd.google.colaboratory.intrinsic+json": {
              "type": "string"
            }
          },
          "metadata": {},
          "execution_count": 81
        }
      ]
    },
    {
      "cell_type": "code",
      "source": [
        "#sao imutáveis\n",
        "tp[0] = \"Laranja\" #gera erro"
      ],
      "metadata": {
        "colab": {
          "base_uri": "https://localhost:8080/",
          "height": 166
        },
        "id": "q46lv5HeUrsD",
        "outputId": "09eeef65-d828-4214-eb97-b0875664dc21"
      },
      "execution_count": 85,
      "outputs": [
        {
          "output_type": "error",
          "ename": "TypeError",
          "evalue": "'tuple' object does not support item assignment",
          "traceback": [
            "\u001b[0;31m---------------------------------------------------------------------------\u001b[0m",
            "\u001b[0;31mTypeError\u001b[0m                                 Traceback (most recent call last)",
            "\u001b[0;32m<ipython-input-85-c4e4e345bc69>\u001b[0m in \u001b[0;36m<cell line: 2>\u001b[0;34m()\u001b[0m\n\u001b[1;32m      1\u001b[0m \u001b[0;31m#sao imutáveis\u001b[0m\u001b[0;34m\u001b[0m\u001b[0;34m\u001b[0m\u001b[0m\n\u001b[0;32m----> 2\u001b[0;31m \u001b[0mtp\u001b[0m\u001b[0;34m[\u001b[0m\u001b[0;36m0\u001b[0m\u001b[0;34m]\u001b[0m \u001b[0;34m=\u001b[0m \u001b[0;34m\"Laranja\"\u001b[0m \u001b[0;31m#gera erro\u001b[0m\u001b[0;34m\u001b[0m\u001b[0;34m\u001b[0m\u001b[0m\n\u001b[0m",
            "\u001b[0;31mTypeError\u001b[0m: 'tuple' object does not support item assignment"
          ]
        }
      ]
    },
    {
      "cell_type": "code",
      "source": [
        "#Quantidade de vezes que um elemento aparecem na tupla\n",
        "tp.count(\"Maçã\")"
      ],
      "metadata": {
        "colab": {
          "base_uri": "https://localhost:8080/"
        },
        "id": "PGXyixXBVs8d",
        "outputId": "c2cb0dab-a191-4ee5-ac72-12a480d95f95"
      },
      "execution_count": 86,
      "outputs": [
        {
          "output_type": "execute_result",
          "data": {
            "text/plain": [
              "1"
            ]
          },
          "metadata": {},
          "execution_count": 86
        }
      ]
    },
    {
      "cell_type": "code",
      "source": [
        "#slice de tupla (fatiar)\n",
        "tp[0:2]"
      ],
      "metadata": {
        "colab": {
          "base_uri": "https://localhost:8080/"
        },
        "id": "4oAdp6SuVz8q",
        "outputId": "2ec0c446-def2-4a9b-e90e-cd314ee0b9db"
      },
      "execution_count": 87,
      "outputs": [
        {
          "output_type": "execute_result",
          "data": {
            "text/plain": [
              "('Banana', 'Maçã')"
            ]
          },
          "metadata": {},
          "execution_count": 87
        }
      ]
    },
    {
      "cell_type": "markdown",
      "source": [
        "# **Dicionários**\n",
        "Para criar um dicionário utilizamos as chaves \"{}\""
      ],
      "metadata": {
        "id": "I88FDCVgWCTx"
      }
    },
    {
      "cell_type": "code",
      "source": [
        "#trabalham com conceito de chave e valor\n",
        "dc = {\"Tangerina\":15, \"Banana\":10, \"Laranja\":15, \"Uva\":5}\n",
        "dc"
      ],
      "metadata": {
        "colab": {
          "base_uri": "https://localhost:8080/"
        },
        "id": "uCU9TNcFV_Di",
        "outputId": "4843db5a-9545-46d5-d409-c2923a6fce32"
      },
      "execution_count": 110,
      "outputs": [
        {
          "output_type": "execute_result",
          "data": {
            "text/plain": [
              "{'Tangerina': 15, 'Banana': 10, 'Laranja': 15, 'Uva': 5}"
            ]
          },
          "metadata": {},
          "execution_count": 110
        }
      ]
    },
    {
      "cell_type": "code",
      "source": [
        "#acessando valor de dicionario atraves da chave\n",
        "dc[\"Tangerina\"]"
      ],
      "metadata": {
        "colab": {
          "base_uri": "https://localhost:8080/"
        },
        "id": "64cKiAPkY4nj",
        "outputId": "7870b0a2-77e8-4bf9-b2d3-a90e44a241ac"
      },
      "execution_count": 111,
      "outputs": [
        {
          "output_type": "execute_result",
          "data": {
            "text/plain": [
              "15"
            ]
          },
          "metadata": {},
          "execution_count": 111
        }
      ]
    },
    {
      "cell_type": "code",
      "source": [
        "#atualizando o valor da maça\n",
        "dc[\"Tangerina\"] = 20\n",
        "dc"
      ],
      "metadata": {
        "colab": {
          "base_uri": "https://localhost:8080/"
        },
        "id": "kwHiVy3AYKVK",
        "outputId": "f8aba2f4-8afa-4d38-fd78-0f3fc318be28"
      },
      "execution_count": 112,
      "outputs": [
        {
          "output_type": "execute_result",
          "data": {
            "text/plain": [
              "{'Tangerina': 20, 'Banana': 10, 'Laranja': 15, 'Uva': 5}"
            ]
          },
          "metadata": {},
          "execution_count": 112
        }
      ]
    },
    {
      "cell_type": "code",
      "source": [
        "#retornando as chaves que compõe o dicionario\n",
        "dc.keys()"
      ],
      "metadata": {
        "colab": {
          "base_uri": "https://localhost:8080/"
        },
        "id": "AnkBFNDYZFtR",
        "outputId": "4eddc3bf-14c0-4579-ed5e-f4ea7a026d92"
      },
      "execution_count": 104,
      "outputs": [
        {
          "output_type": "execute_result",
          "data": {
            "text/plain": [
              "dict_keys(['Tangerina', 'Banana', 'Laranja', 'Uva'])"
            ]
          },
          "metadata": {},
          "execution_count": 104
        }
      ]
    },
    {
      "cell_type": "code",
      "source": [
        "#retornando os valores\n",
        "dc.values()"
      ],
      "metadata": {
        "colab": {
          "base_uri": "https://localhost:8080/"
        },
        "id": "IAw5HSh-ZMJd",
        "outputId": "c8e044f8-bbb8-45d4-cdc6-ebb0228352d7"
      },
      "execution_count": 105,
      "outputs": [
        {
          "output_type": "execute_result",
          "data": {
            "text/plain": [
              "dict_values([20, 10, 15, 5])"
            ]
          },
          "metadata": {},
          "execution_count": 105
        }
      ]
    },
    {
      "cell_type": "code",
      "source": [
        "#Vericando se uma determinada chave existe no dicionario e, caso nao exista, ela será inserida\n",
        "dc.setdefault(\"Maçã\", 22)\n",
        "dc"
      ],
      "metadata": {
        "colab": {
          "base_uri": "https://localhost:8080/"
        },
        "id": "V5TdL0iNZZAx",
        "outputId": "aaf75a84-7c4e-45fc-c07b-5c044adbd632"
      },
      "execution_count": 113,
      "outputs": [
        {
          "output_type": "execute_result",
          "data": {
            "text/plain": [
              "{'Tangerina': 20, 'Banana': 10, 'Laranja': 15, 'Uva': 5, 'Maçã': 22}"
            ]
          },
          "metadata": {},
          "execution_count": 113
        }
      ]
    },
    {
      "cell_type": "code",
      "source": [],
      "metadata": {
        "id": "3lzKZRBtZqop"
      },
      "execution_count": null,
      "outputs": []
    }
  ]
}